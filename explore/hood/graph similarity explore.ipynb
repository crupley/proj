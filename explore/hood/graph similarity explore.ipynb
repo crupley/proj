{
 "cells": [
  {
   "cell_type": "code",
   "execution_count": 10,
   "metadata": {
    "collapsed": false
   },
   "outputs": [],
   "source": [
    "import numpy as np\n",
    "import pandas as pd\n",
    "from code.geo import *"
   ]
  },
  {
   "cell_type": "code",
   "execution_count": 9,
   "metadata": {
    "collapsed": false
   },
   "outputs": [
    {
     "name": "stdout",
     "output_type": "stream",
     "text": [
      "SEDAC res: 2.5 arcmin =  0.0416666666667 degrees\n",
      "in distance: 16000 feet = 0.0439 degrees = 3.03 miles\n",
      "walkscore res: 500 feet = 0.0014 degrees = 0.09 miles\n"
     ]
    }
   ],
   "source": [
    "citycenter = (37.77, -122.454)\n",
    "print 'SEDAC res: 2.5 arcmin = ', 2.5/60, 'degrees'\n",
    "\n",
    "d = 16000\n",
    "print 'in distance: %d feet = %6.4f degrees = %3.2f miles' % (d, distance_to_angle(citycenter, d, 0)[0], d/5280.)\n",
    "\n",
    "d = 500\n",
    "print 'walkscore res: %d feet = %6.4f degrees = %3.2f miles' % (d, distance_to_angle(citycenter, d, 0)[0], d/5280.)"
   ]
  },
  {
   "cell_type": "code",
   "execution_count": 18,
   "metadata": {
    "collapsed": false
   },
   "outputs": [
    {
     "name": "stdout",
     "output_type": "stream",
     "text": [
      "(100, 2)\n"
     ]
    },
    {
     "data": {
      "text/html": [
       "<div>\n",
       "<table border=\"1\" class=\"dataframe\">\n",
       "  <thead>\n",
       "    <tr style=\"text-align: right;\">\n",
       "      <th></th>\n",
       "      <th>nodex</th>\n",
       "      <th>nodey</th>\n",
       "    </tr>\n",
       "  </thead>\n",
       "  <tbody>\n",
       "    <tr>\n",
       "      <th>0</th>\n",
       "      <td>1</td>\n",
       "      <td>1</td>\n",
       "    </tr>\n",
       "    <tr>\n",
       "      <th>1</th>\n",
       "      <td>2</td>\n",
       "      <td>1</td>\n",
       "    </tr>\n",
       "    <tr>\n",
       "      <th>2</th>\n",
       "      <td>3</td>\n",
       "      <td>1</td>\n",
       "    </tr>\n",
       "    <tr>\n",
       "      <th>3</th>\n",
       "      <td>4</td>\n",
       "      <td>1</td>\n",
       "    </tr>\n",
       "    <tr>\n",
       "      <th>4</th>\n",
       "      <td>5</td>\n",
       "      <td>1</td>\n",
       "    </tr>\n",
       "  </tbody>\n",
       "</table>\n",
       "</div>"
      ],
      "text/plain": [
       "   nodex  nodey\n",
       "0      1      1\n",
       "1      2      1\n",
       "2      3      1\n",
       "3      4      1\n",
       "4      5      1"
      ]
     },
     "execution_count": 18,
     "metadata": {},
     "output_type": "execute_result"
    }
   ],
   "source": [
    "coords = np.arange(1, 11)\n",
    "g = np.meshgrid(coords, coords)\n",
    "\n",
    "gdf = pd.DataFrame({'nodex': g[0].ravel(), 'nodey': g[1].ravel()})\n",
    "print gdf.shape\n",
    "gdf.head()\n"
   ]
  },
  {
   "cell_type": "code",
   "execution_count": 50,
   "metadata": {
    "collapsed": false
   },
   "outputs": [
    {
     "data": {
      "text/plain": [
       "{'n1': (3, 2), 'n2': (1, 2), 'n3': (2, 3), 'n4': (2, 1)}"
      ]
     },
     "execution_count": 50,
     "metadata": {},
     "output_type": "execute_result"
    }
   ],
   "source": [
    "def find_neib(x, y):\n",
    "    neibs = {'n1':(x + 1, y),\n",
    "             'n2':(x - 1, y),\n",
    "             'n3':(x, y + 1),\n",
    "             'n4':(x, y - 1)}\n",
    "    return neibs\n",
    "find_neib(2, 2)"
   ]
  },
  {
   "cell_type": "code",
   "execution_count": null,
   "metadata": {
    "collapsed": true
   },
   "outputs": [],
   "source": []
  },
  {
   "cell_type": "code",
   "execution_count": 49,
   "metadata": {
    "collapsed": false
   },
   "outputs": [
    {
     "data": {
      "text/plain": [
       "0     <built-in method values of dict object at 0x10...\n",
       "1     <built-in method values of dict object at 0x10...\n",
       "2     <built-in method values of dict object at 0x10...\n",
       "3     <built-in method values of dict object at 0x10...\n",
       "4     <built-in method values of dict object at 0x10...\n",
       "5     <built-in method values of dict object at 0x10...\n",
       "6     <built-in method values of dict object at 0x10...\n",
       "7     <built-in method values of dict object at 0x10...\n",
       "8     <built-in method values of dict object at 0x10...\n",
       "9     <built-in method values of dict object at 0x10...\n",
       "10    <built-in method values of dict object at 0x10...\n",
       "11    <built-in method values of dict object at 0x10...\n",
       "12    <built-in method values of dict object at 0x10...\n",
       "13    <built-in method values of dict object at 0x10...\n",
       "14    <built-in method values of dict object at 0x10...\n",
       "15    <built-in method values of dict object at 0x10...\n",
       "16    <built-in method values of dict object at 0x10...\n",
       "17    <built-in method values of dict object at 0x10...\n",
       "18    <built-in method values of dict object at 0x10...\n",
       "19    <built-in method values of dict object at 0x10...\n",
       "20    <built-in method values of dict object at 0x10...\n",
       "21    <built-in method values of dict object at 0x10...\n",
       "22    <built-in method values of dict object at 0x10...\n",
       "23    <built-in method values of dict object at 0x10...\n",
       "24    <built-in method values of dict object at 0x10...\n",
       "25    <built-in method values of dict object at 0x10...\n",
       "26    <built-in method values of dict object at 0x10...\n",
       "27    <built-in method values of dict object at 0x10...\n",
       "28    <built-in method values of dict object at 0x10...\n",
       "29    <built-in method values of dict object at 0x10...\n",
       "                            ...                        \n",
       "70    <built-in method values of dict object at 0x10...\n",
       "71    <built-in method values of dict object at 0x10...\n",
       "72    <built-in method values of dict object at 0x10...\n",
       "73    <built-in method values of dict object at 0x10...\n",
       "74    <built-in method values of dict object at 0x10...\n",
       "75    <built-in method values of dict object at 0x10...\n",
       "76    <built-in method values of dict object at 0x10...\n",
       "77    <built-in method values of dict object at 0x10...\n",
       "78    <built-in method values of dict object at 0x10...\n",
       "79    <built-in method values of dict object at 0x10...\n",
       "80    <built-in method values of dict object at 0x10...\n",
       "81    <built-in method values of dict object at 0x10...\n",
       "82    <built-in method values of dict object at 0x10...\n",
       "83    <built-in method values of dict object at 0x10...\n",
       "84    <built-in method values of dict object at 0x10...\n",
       "85    <built-in method values of dict object at 0x10...\n",
       "86    <built-in method values of dict object at 0x10...\n",
       "87    <built-in method values of dict object at 0x10...\n",
       "88    <built-in method values of dict object at 0x10...\n",
       "89    <built-in method values of dict object at 0x10...\n",
       "90    <built-in method values of dict object at 0x10...\n",
       "91    <built-in method values of dict object at 0x10...\n",
       "92    <built-in method values of dict object at 0x10...\n",
       "93    <built-in method values of dict object at 0x10...\n",
       "94    <built-in method values of dict object at 0x10...\n",
       "95    <built-in method values of dict object at 0x10...\n",
       "96    <built-in method values of dict object at 0x10...\n",
       "97    <built-in method values of dict object at 0x10...\n",
       "98    <built-in method values of dict object at 0x10...\n",
       "99    <built-in method values of dict object at 0x10...\n",
       "dtype: object"
      ]
     },
     "execution_count": 49,
     "metadata": {},
     "output_type": "execute_result"
    }
   ],
   "source": [
    "ndf = pd.DataFrame()\n",
    "for row in gdf.apply(lambda x: find_neib(x[0], x[1]), axis=1)\n",
    "    ndf.concatenate()"
   ]
  }
 ],
 "metadata": {
  "kernelspec": {
   "display_name": "Python 2",
   "language": "python",
   "name": "python2"
  },
  "language_info": {
   "codemirror_mode": {
    "name": "ipython",
    "version": 2
   },
   "file_extension": ".py",
   "mimetype": "text/x-python",
   "name": "python",
   "nbconvert_exporter": "python",
   "pygments_lexer": "ipython2",
   "version": "2.7.10"
  }
 },
 "nbformat": 4,
 "nbformat_minor": 0
}
